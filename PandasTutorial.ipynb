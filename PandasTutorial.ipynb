{
  "metadata": {
    "language_info": {
      "codemirror_mode": {
        "name": "python",
        "version": 3
      },
      "file_extension": ".py",
      "mimetype": "text/x-python",
      "name": "python",
      "nbconvert_exporter": "python",
      "pygments_lexer": "ipython3",
      "version": "3.8"
    },
    "kernelspec": {
      "name": "python",
      "display_name": "Pyolite",
      "language": "python"
    }
  },
  "nbformat_minor": 4,
  "nbformat": 4,
  "cells": [
    {
      "cell_type": "code",
      "source": "import numpy as np\nimport pandas as pd",
      "metadata": {
        "trusted": true
      },
      "execution_count": 4,
      "outputs": []
    },
    {
      "cell_type": "code",
      "source": "#5x2 NumPy dizisi oluşturuldu\nmy_data = np.array([[0, 3], [10, 7], [20, 9], [30, 14], [40, 15]])\n\n#Python listesi oluşturuldu\nmy_column_names = ['temperature', 'activity']\n\n#DataFrame oluşturuldu\nmy_dataframe = pd.DataFrame(data=my_data, columns=my_column_names)\n\n#tüm DataFrame yazdırıldı\nprint(my_dataframe)",
      "metadata": {
        "trusted": true
      },
      "execution_count": 10,
      "outputs": [
        {
          "name": "stdout",
          "text": "   temperature  activity\n0            0         3\n1           10         7\n2           20         9\n3           30        14\n4           40        15\n",
          "output_type": "stream"
        }
      ]
    },
    {
      "cell_type": "code",
      "source": "#yeni bir sütun oluşturuldu\nmy_dataframe[\"adjusted\"] = my_dataframe[\"activity\"] + 2\n\n#tüm DataFrame yazdırıldı\nprint(my_dataframe)",
      "metadata": {
        "trusted": true
      },
      "execution_count": 11,
      "outputs": [
        {
          "name": "stdout",
          "text": "   temperature  activity  adjusted\n0            0         3         5\n1           10         7         9\n2           20         9        11\n3           30        14        16\n4           40        15        17\n",
          "output_type": "stream"
        }
      ]
    },
    {
      "cell_type": "code",
      "source": "#belirtilen satır/sütunlar yazdırıldı\nprint(\"Rows #0, #1, and #2:\")\nprint(my_dataframe.head(3), '\\n')\n\nprint(\"Row #2:\")\nprint(my_dataframe.iloc[[2]], '\\n')\n\nprint(\"Rows #1, #2, and #3:\")\nprint(my_dataframe[1:4], '\\n')\n\nprint(\"Column 'temperature':\")\nprint(my_dataframe['temperature'])",
      "metadata": {
        "trusted": true
      },
      "execution_count": 15,
      "outputs": [
        {
          "name": "stdout",
          "text": "Rows #0, #1, and #2:\n   temperature  activity  adjusted\n0            0         3         5\n1           10        13         9\n2           20         9        11 \n\nRow #2:\n   temperature  activity  adjusted\n2           20         9        11 \n\nRows #1, #2, and #3:\n   temperature  activity  adjusted\n1           10        13         9\n2           20         9        11\n3           30        14        16 \n\nColumn 'temperature':\n0     0\n1    10\n2    20\n3    30\n4    40\nName: temperature, dtype: int32\n",
          "output_type": "stream"
        }
      ]
    },
    {
      "cell_type": "code",
      "source": "#Python listesi oluşturuldu\nmy_column_names = ['Eleanor', 'Chidi', 'Tahani', 'Jason']\n\n#3x4 Numpy dizisi oluşturuldu\nmy_data = np.random.randint(low=0, high=101, size=(3, 4))\n\n#DataFrame oluşturuldu\ndf = pd.DataFrame(data=my_data, columns=my_column_names)\n\n#tüm DataFrame yazdırıldı\nprint(df)\n\n#değer Eleanor sütununun 1 numaralı satırına yazdırıldı\nprint(\"\\nSecond row of the Eleanor column: %d\\n\" % df['Eleanor'][1])\n\n#içeriği diğer iki sütunun toplamı olan Janet adında bir sütun oluşturuldu\ndf['Janet'] = df['Tahani'] + df['Jason']\n\n#gelişmiş DataFrame yazdırıldı\nprint(df)",
      "metadata": {
        "trusted": true
      },
      "execution_count": 12,
      "outputs": [
        {
          "name": "stdout",
          "text": "   Eleanor  Chidi  Tahani  Jason\n0       39     87      62      0\n1       69     75      42     27\n2       98     94      18     75\n\nSecond row of the Eleanor column: 69\n\n   Eleanor  Chidi  Tahani  Jason  Janet\n0       39     87      62      0     62\n1       69     75      42     27     69\n2       98     94      18     75     93\n",
          "output_type": "stream"
        }
      ]
    },
    {
      "cell_type": "code",
      "source": "#yeni bir değişkene my_dataframe atandı\nprint(\"Experiment with a reference:\")\nreference_to_df = df\n\n#belirli bir hücrenin başlangıç değeri yazdırıldı\nprint(\"  Starting value of df: %d\" % df['Jason'][1])\nprint(\"  Starting value of reference_to_df: %d\\n\" % reference_to_df['Jason'][1])\n\n#DataFrame'deki bir hücre değiştirildi\ndf.at[1, 'Jason'] = df['Jason'][1] + 5\nprint(\"  Updated df: %d\" % df['Jason'][1])\nprint(\"  Updated reference_to_df: %d\\n\\n\" % reference_to_df['Jason'][1])\n\n#my_dataframe'in gerçek bir kopyası oluşturuldu\nprint(\"Experiment with a true copy:\")\ncopy_of_my_dataframe = my_dataframe.copy()\n\n#belirli bir hücrenin başlangıç değeri yazdırıldı\nprint(\"  Starting value of my_dataframe: %d\" % my_dataframe['activity'][1])\nprint(\"  Starting value of copy_of_my_dataframe: %d\\n\" % copy_of_my_dataframe['activity'][1])\n\n#DataFrame'deki bir hücre değiştirildi\nmy_dataframe.at[1, 'activity'] = my_dataframe['activity'][1] + 3\nprint(\"  Updated my_dataframe: %d\" % my_dataframe['activity'][1])\nprint(\"  copy_of_my_dataframe does not get updated: %d\" % copy_of_my_dataframe['activity'][1])",
      "metadata": {
        "trusted": true
      },
      "execution_count": 14,
      "outputs": [
        {
          "name": "stdout",
          "text": "Experiment with a reference:\n  Starting value of df: 32\n  Starting value of reference_to_df: 32\n\n  Updated df: 37\n  Updated reference_to_df: 37\n\n\nExperiment with a true copy:\n  Starting value of my_dataframe: 10\n  Starting value of copy_of_my_dataframe: 10\n\n  Updated my_dataframe: 13\n  copy_of_my_dataframe does not get updated: 10\n",
          "output_type": "stream"
        }
      ]
    }
  ]
}